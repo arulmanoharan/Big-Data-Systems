{
 "cells": [
  {
   "cell_type": "markdown",
   "id": "3c1119be-1600-4269-a031-6f812cc92df4",
   "metadata": {},
   "source": [
    "<h1>Contribution</h1>\n",
    "\n",
    "\n",
    "\n",
    "<div>\n",
    "  <p><strong>Name:</strong> ARUL M, <strong>ID:</strong> 2023DA04255, <strong>Contribution:</strong> 100%</p>\n",
    "  <p><strong>Name:</strong> SAI SARAVAN LANKA, <strong>ID:</strong> 2023DA04050, <strong>Contribution:</strong> 100%</p>\n",
    "  <p><strong>Name:</strong> SOMA RAHUL LAXMAN, <strong>ID:</strong> 2023DA04425, <strong>Contribution:</strong> 100%</p>\n",
    "</div>"
   ]
  },
  {
   "cell_type": "code",
   "execution_count": 1,
   "id": "d61e283d-3f08-4b7b-b322-4f99aa6a83b7",
   "metadata": {},
   "outputs": [],
   "source": [
    "import pyspark\n",
    "from pyspark.sql import SparkSession\n",
    "from pyspark import SparkContext\n",
    "from pyspark import SparkConf\n",
    "conf = pyspark.SparkConf() \\\n",
    "    .setMaster(\"local[*]\") \\\n",
    "    .set(\"spark.executor.heartbeatInterval\", \"60s\") \\\n",
    "    .set(\"spark.network.timeout\", \"300s\") \\\n",
    "    .set(\"spark.sql.shuffle.partitions\", \"200\") \\\n",
    "    .set(\"spark.executor.memory\", \"15G\") \\\n",
    "    .set(\"spark.driver.memory\", \"15G\") \\\n",
    "    .set(\"spark.driver.maxResultSize\", \"10G\")\n",
    "# Initialize SparkSession\n",
    "spark = SparkSession.builder \\\n",
    "    .appName(\"BDS-Assignment-2\") \\\n",
    "    .config(conf=conf) \\\n",
    "    .getOrCreate()"
   ]
  },
  {
   "cell_type": "code",
   "execution_count": 2,
   "id": "65c65cc8-62d9-43f3-bcd6-99429fa44445",
   "metadata": {},
   "outputs": [],
   "source": [
    "#loading log files and merging them\n",
    "aug_file = spark.read.text(\"access_log_Aug95\")\n",
    "jul_file = spark.read.text(\"access_log_Jul95\")\n",
    "combined_logs = aug_file.union(jul_file)"
   ]
  },
  {
   "cell_type": "code",
   "execution_count": 3,
   "id": "8371960c-c5d2-4324-90d9-50063a7f5ac8",
   "metadata": {},
   "outputs": [
    {
     "name": "stdout",
     "output_type": "stream",
     "text": [
      "+---------------------------+------+--------+--------------------------+------+---------------------------------------------------+--------+------+-----+\n",
      "|remotehost                 |rfc931|authuser|date                      |method|endpoint                                           |protocol|status|bytes|\n",
      "+---------------------------+------+--------+--------------------------+------+---------------------------------------------------+--------+------+-----+\n",
      "|in24.inetnebr.com          |-     |-       |01/Aug/1995:00:00:01 -0400|GET   |/shuttle/missions/sts-68/news/sts-68-mcc-05.txt    |HTTP/1.0|200   |1839 |\n",
      "|uplherc.upl.com            |-     |-       |01/Aug/1995:00:00:07 -0400|GET   |/                                                  |HTTP/1.0|304   |0    |\n",
      "|uplherc.upl.com            |-     |-       |01/Aug/1995:00:00:08 -0400|GET   |/images/ksclogo-medium.gif                         |HTTP/1.0|304   |0    |\n",
      "|uplherc.upl.com            |-     |-       |01/Aug/1995:00:00:08 -0400|GET   |/images/MOSAIC-logosmall.gif                       |HTTP/1.0|304   |0    |\n",
      "|uplherc.upl.com            |-     |-       |01/Aug/1995:00:00:08 -0400|GET   |/images/USA-logosmall.gif                          |HTTP/1.0|304   |0    |\n",
      "|ix-esc-ca2-07.ix.netcom.com|-     |-       |01/Aug/1995:00:00:09 -0400|GET   |/images/launch-logo.gif                            |HTTP/1.0|200   |1713 |\n",
      "|uplherc.upl.com            |-     |-       |01/Aug/1995:00:00:10 -0400|GET   |/images/WORLD-logosmall.gif                        |HTTP/1.0|304   |0    |\n",
      "|slppp6.intermind.net       |-     |-       |01/Aug/1995:00:00:10 -0400|GET   |/history/skylab/skylab.html                        |HTTP/1.0|200   |1687 |\n",
      "|piweba4y.prodigy.com       |-     |-       |01/Aug/1995:00:00:10 -0400|GET   |/images/launchmedium.gif                           |HTTP/1.0|200   |11853|\n",
      "|slppp6.intermind.net       |-     |-       |01/Aug/1995:00:00:11 -0400|GET   |/history/skylab/skylab-small.gif                   |HTTP/1.0|200   |9202 |\n",
      "|slppp6.intermind.net       |-     |-       |01/Aug/1995:00:00:12 -0400|GET   |/images/ksclogosmall.gif                           |HTTP/1.0|200   |3635 |\n",
      "|ix-esc-ca2-07.ix.netcom.com|-     |-       |01/Aug/1995:00:00:12 -0400|GET   |/history/apollo/images/apollo-logo1.gif            |HTTP/1.0|200   |1173 |\n",
      "|slppp6.intermind.net       |-     |-       |01/Aug/1995:00:00:13 -0400|GET   |/history/apollo/images/apollo-logo.gif             |HTTP/1.0|200   |3047 |\n",
      "|uplherc.upl.com            |-     |-       |01/Aug/1995:00:00:14 -0400|GET   |/images/NASA-logosmall.gif                         |HTTP/1.0|304   |0    |\n",
      "|133.43.96.45               |-     |-       |01/Aug/1995:00:00:16 -0400|GET   |/shuttle/missions/sts-69/mission-sts-69.html       |HTTP/1.0|200   |10566|\n",
      "|kgtyk4.kj.yamagata-u.ac.jp |-     |-       |01/Aug/1995:00:00:17 -0400|GET   |/                                                  |HTTP/1.0|200   |7280 |\n",
      "|kgtyk4.kj.yamagata-u.ac.jp |-     |-       |01/Aug/1995:00:00:18 -0400|GET   |/images/ksclogo-medium.gif                         |HTTP/1.0|200   |5866 |\n",
      "|d0ucr6.fnal.gov            |-     |-       |01/Aug/1995:00:00:19 -0400|GET   |/history/apollo/apollo-16/apollo-16.html           |HTTP/1.0|200   |2743 |\n",
      "|ix-esc-ca2-07.ix.netcom.com|-     |-       |01/Aug/1995:00:00:19 -0400|GET   |/shuttle/resources/orbiters/discovery.html         |HTTP/1.0|200   |6849 |\n",
      "|d0ucr6.fnal.gov            |-     |-       |01/Aug/1995:00:00:20 -0400|GET   |/history/apollo/apollo-16/apollo-16-patch-small.gif|HTTP/1.0|200   |14897|\n",
      "+---------------------------+------+--------+--------------------------+------+---------------------------------------------------+--------+------+-----+\n",
      "only showing top 20 rows\n",
      "\n"
     ]
    }
   ],
   "source": [
    "#using regex to derive log patter into dataframe table\n",
    "from pyspark.sql.functions import regexp_extract, col, to_timestamp, when,count, countDistinct, date_format, to_date, desc ,avg\n",
    "# log_pattern = r'^(\\S+) (\\S+) (\\S+) \\[([\\w:/]+\\s[+\\-]\\d{4})\\] \"(\\S+) (\\S+) (\\S+)\" (\\d{3}) (\\d+)$'\n",
    "log_pattern = r'^(\\S+) (\\S+) (\\S+) \\[([\\w:/]+\\s[+\\-]\\d{4})\\] \"(\\S+) (\\S+) (\\S+)\" (\\d{3}) (\\S+)$'\n",
    "parsed_logs = combined_logs.select(\n",
    "    regexp_extract(col(\"value\"), log_pattern, 1).alias(\"remotehost\"),\n",
    "    regexp_extract(col(\"value\"), log_pattern, 2).alias(\"rfc931\"),\n",
    "    regexp_extract(col(\"value\"), log_pattern, 3).alias(\"authuser\"),\n",
    "    regexp_extract(col(\"value\"), log_pattern, 4).alias(\"date\"),\n",
    "    regexp_extract(col(\"value\"), log_pattern, 5).alias(\"method\"),\n",
    "    regexp_extract(col(\"value\"), log_pattern, 6).alias(\"endpoint\"),\n",
    "    regexp_extract(col(\"value\"), log_pattern, 7).alias(\"protocol\"),\n",
    "    regexp_extract(col(\"value\"), log_pattern, 8).alias(\"status\"),\n",
    "    regexp_extract(col(\"value\"), log_pattern, 9).alias(\"bytes\")\n",
    ")\n",
    "\n",
    "parsed_logs.show(truncate=False)"
   ]
  },
  {
   "cell_type": "code",
   "execution_count": 4,
   "id": "ba9792ce-f79f-4dd3-b274-954d4c32b1d3",
   "metadata": {},
   "outputs": [],
   "source": [
    "# filling nan in rfc , authuser and bytes column where ever its empty\n",
    "parsed_logs = parsed_logs.withColumn(\"rfc931\", when(col(\"rfc931\") != \"-\", col(\"rfc931\")).otherwise(None)) \\\n",
    "                         .withColumn(\"authuser\", when(col(\"authuser\") != \"-\", col(\"authuser\")).otherwise(None)) \\\n",
    "                         .withColumn(\"bytes\", when(col(\"bytes\") != \"-\", col(\"bytes\")).otherwise(None))"
   ]
  },
  {
   "cell_type": "code",
   "execution_count": 5,
   "id": "06f7c200-855d-40fa-abe0-fc0363bb6efd",
   "metadata": {},
   "outputs": [],
   "source": [
    "#removing empty rows\n",
    "cleaned_logs = parsed_logs.na.drop(how=\"all\")"
   ]
  },
  {
   "cell_type": "code",
   "execution_count": 6,
   "id": "5ead8e0a-a34e-4de9-940f-728c11179c14",
   "metadata": {},
   "outputs": [],
   "source": [
    "#converting status to int, bytes to int and date to proper date format\n",
    "cleaned_logs = cleaned_logs.withColumn(\"status\", col(\"status\").cast(\"int\")) \\\n",
    "                           .withColumn(\"bytes\", col(\"bytes\").cast(\"int\")) \\\n",
    "                           .withColumn(\"date\", to_timestamp(col(\"date\"), \"dd/MMM/yyyy:HH:mm:ss Z\"))"
   ]
  },
  {
   "cell_type": "code",
   "execution_count": 7,
   "id": "5d888b1f-31a4-4a51-b6c2-4d90deff6a53",
   "metadata": {},
   "outputs": [
    {
     "name": "stdout",
     "output_type": "stream",
     "text": [
      "+--------------------+------+--------+-------------------+------+--------------------+--------+------+-----+\n",
      "|          remotehost|rfc931|authuser|               date|method|            endpoint|protocol|status|bytes|\n",
      "+--------------------+------+--------+-------------------+------+--------------------+--------+------+-----+\n",
      "|   in24.inetnebr.com|  NULL|    NULL|1995-08-01 09:30:01|   GET|/shuttle/missions...|HTTP/1.0|   200| 1839|\n",
      "|     uplherc.upl.com|  NULL|    NULL|1995-08-01 09:30:07|   GET|                   /|HTTP/1.0|   304|    0|\n",
      "|     uplherc.upl.com|  NULL|    NULL|1995-08-01 09:30:08|   GET|/images/ksclogo-m...|HTTP/1.0|   304|    0|\n",
      "|     uplherc.upl.com|  NULL|    NULL|1995-08-01 09:30:08|   GET|/images/MOSAIC-lo...|HTTP/1.0|   304|    0|\n",
      "|     uplherc.upl.com|  NULL|    NULL|1995-08-01 09:30:08|   GET|/images/USA-logos...|HTTP/1.0|   304|    0|\n",
      "|ix-esc-ca2-07.ix....|  NULL|    NULL|1995-08-01 09:30:09|   GET|/images/launch-lo...|HTTP/1.0|   200| 1713|\n",
      "|     uplherc.upl.com|  NULL|    NULL|1995-08-01 09:30:10|   GET|/images/WORLD-log...|HTTP/1.0|   304|    0|\n",
      "|slppp6.intermind.net|  NULL|    NULL|1995-08-01 09:30:10|   GET|/history/skylab/s...|HTTP/1.0|   200| 1687|\n",
      "|piweba4y.prodigy.com|  NULL|    NULL|1995-08-01 09:30:10|   GET|/images/launchmed...|HTTP/1.0|   200|11853|\n",
      "|slppp6.intermind.net|  NULL|    NULL|1995-08-01 09:30:11|   GET|/history/skylab/s...|HTTP/1.0|   200| 9202|\n",
      "|slppp6.intermind.net|  NULL|    NULL|1995-08-01 09:30:12|   GET|/images/ksclogosm...|HTTP/1.0|   200| 3635|\n",
      "|ix-esc-ca2-07.ix....|  NULL|    NULL|1995-08-01 09:30:12|   GET|/history/apollo/i...|HTTP/1.0|   200| 1173|\n",
      "|slppp6.intermind.net|  NULL|    NULL|1995-08-01 09:30:13|   GET|/history/apollo/i...|HTTP/1.0|   200| 3047|\n",
      "|     uplherc.upl.com|  NULL|    NULL|1995-08-01 09:30:14|   GET|/images/NASA-logo...|HTTP/1.0|   304|    0|\n",
      "|        133.43.96.45|  NULL|    NULL|1995-08-01 09:30:16|   GET|/shuttle/missions...|HTTP/1.0|   200|10566|\n",
      "|kgtyk4.kj.yamagat...|  NULL|    NULL|1995-08-01 09:30:17|   GET|                   /|HTTP/1.0|   200| 7280|\n",
      "|kgtyk4.kj.yamagat...|  NULL|    NULL|1995-08-01 09:30:18|   GET|/images/ksclogo-m...|HTTP/1.0|   200| 5866|\n",
      "|     d0ucr6.fnal.gov|  NULL|    NULL|1995-08-01 09:30:19|   GET|/history/apollo/a...|HTTP/1.0|   200| 2743|\n",
      "|ix-esc-ca2-07.ix....|  NULL|    NULL|1995-08-01 09:30:19|   GET|/shuttle/resource...|HTTP/1.0|   200| 6849|\n",
      "|     d0ucr6.fnal.gov|  NULL|    NULL|1995-08-01 09:30:20|   GET|/history/apollo/a...|HTTP/1.0|   200|14897|\n",
      "+--------------------+------+--------+-------------------+------+--------------------+--------+------+-----+\n",
      "only showing top 20 rows\n",
      "\n"
     ]
    }
   ],
   "source": [
    "cleaned_logs.show()"
   ]
  },
  {
   "cell_type": "code",
   "execution_count": 8,
   "id": "1dd5deb7-d437-4d2d-886f-fd3522ad2c94",
   "metadata": {},
   "outputs": [
    {
     "name": "stdout",
     "output_type": "stream",
     "text": [
      "Total log records: 3461613\n"
     ]
    }
   ],
   "source": [
    "#i. Count of total log records\n",
    "total_log_records = cleaned_logs.count()\n",
    "print(f\"Total log records: {total_log_records}\")"
   ]
  },
  {
   "cell_type": "code",
   "execution_count": 9,
   "id": "956991c4-389b-4671-979f-001680709a9e",
   "metadata": {},
   "outputs": [
    {
     "name": "stdout",
     "output_type": "stream",
     "text": [
      "Number of unique hosts: 137827\n"
     ]
    }
   ],
   "source": [
    "#ii. Count of unique hosts\n",
    "unique_hosts_count = cleaned_logs.select(countDistinct(\"remotehost\")).collect()[0][0]\n",
    "print(f\"Number of unique hosts: {unique_hosts_count}\")"
   ]
  },
  {
   "cell_type": "code",
   "execution_count": 10,
   "id": "f4809596-f16e-4e54-b848-300fd1204b1f",
   "metadata": {},
   "outputs": [
    {
     "name": "stdout",
     "output_type": "stream",
     "text": [
      "Date-wise unique host counts:\n",
      "+-----------+------------+\n",
      "|date       |unique_hosts|\n",
      "+-----------+------------+\n",
      "|NULL       |1           |\n",
      "|01-Jul-1995|2854        |\n",
      "|02-Jul-1995|4887        |\n",
      "|03-Jul-1995|6535        |\n",
      "|04-Jul-1995|6514        |\n",
      "|05-Jul-1995|6426        |\n",
      "|06-Jul-1995|7714        |\n",
      "|07-Jul-1995|7639        |\n",
      "|08-Jul-1995|4053        |\n",
      "|09-Jul-1995|2608        |\n",
      "|10-Jul-1995|3860        |\n",
      "|11-Jul-1995|4631        |\n",
      "|12-Jul-1995|5212        |\n",
      "|13-Jul-1995|6780        |\n",
      "|14-Jul-1995|5797        |\n",
      "|15-Jul-1995|4013        |\n",
      "|16-Jul-1995|2885        |\n",
      "|17-Jul-1995|4381        |\n",
      "|18-Jul-1995|4673        |\n",
      "|19-Jul-1995|4968        |\n",
      "+-----------+------------+\n",
      "only showing top 20 rows\n",
      "\n"
     ]
    }
   ],
   "source": [
    "#iii. Date wise unique host counts\n",
    "datewise_unique_hosts = cleaned_logs.groupBy(to_date(\"date\").alias(\"date\")) \\\n",
    "    .agg(countDistinct(\"remotehost\").alias(\"unique_hosts\")) \\\n",
    "    .orderBy(\"date\") \\\n",
    "    .withColumn(\"date\", date_format(col(\"date\"), \"dd-MMM-yyyy\"))\n",
    "print(\"Date-wise unique host counts:\")\n",
    "datewise_unique_hosts.show(truncate=False)"
   ]
  },
  {
   "cell_type": "code",
   "execution_count": 11,
   "id": "b4dfa47a-b5e0-4616-9897-0e0556d8fa3f",
   "metadata": {},
   "outputs": [
    {
     "name": "stdout",
     "output_type": "stream",
     "text": [
      "Average requests per host per day:\n",
      "+-----------+---------------------+\n",
      "|date       |avg_requests_per_host|\n",
      "+-----------+---------------------+\n",
      "|NULL       |8314.0               |\n",
      "|01-Jul-1995|11.978626489138051   |\n",
      "|02-Jul-1995|12.23449969306323    |\n",
      "|03-Jul-1995|12.312777352716143   |\n",
      "|04-Jul-1995|12.137549892539147   |\n",
      "|05-Jul-1995|12.724867724867725   |\n",
      "|06-Jul-1995|12.629504796473944   |\n",
      "|07-Jul-1995|13.031286817646288   |\n",
      "|08-Jul-1995|13.374537379718728   |\n",
      "|09-Jul-1995|13.70935582822086    |\n",
      "|10-Jul-1995|14.543264248704663   |\n",
      "|11-Jul-1995|16.636579572446557   |\n",
      "|12-Jul-1995|16.96412125863392    |\n",
      "|13-Jul-1995|19.796755162241887   |\n",
      "|14-Jul-1995|15.630671036743143   |\n",
      "|15-Jul-1995|14.399700971841515   |\n",
      "|16-Jul-1995|15.2315424610052     |\n",
      "|17-Jul-1995|15.005021684546907   |\n",
      "|18-Jul-1995|14.612454526000429   |\n",
      "|19-Jul-1995|14.457528180354267   |\n",
      "+-----------+---------------------+\n",
      "only showing top 20 rows\n",
      "\n"
     ]
    }
   ],
   "source": [
    "#iv. Average Requests per Host per Day\n",
    "requests_per_host_per_day = cleaned_logs.groupBy(to_date(\"date\").alias(\"date\"), \"remotehost\") \\\n",
    "    .agg(count(\"*\").alias(\"requests\")) \\\n",
    "    .groupBy(\"date\") \\\n",
    "    .agg(avg(\"requests\").alias(\"avg_requests_per_host\")) \\\n",
    "    .orderBy(\"date\") \\\n",
    "    .withColumn(\"date\", date_format(col(\"date\"), \"dd-MMM-yyyy\"))\n",
    "\n",
    "print(\"Average requests per host per day:\")\n",
    "requests_per_host_per_day.show(truncate=False)"
   ]
  },
  {
   "cell_type": "code",
   "execution_count": 12,
   "id": "0de45361-9519-4bc9-8e88-49b7cd8759f6",
   "metadata": {},
   "outputs": [
    {
     "name": "stdout",
     "output_type": "stream",
     "text": [
      "Number of 404 responses: 20621\n"
     ]
    }
   ],
   "source": [
    "#v. Number of 404 Response Codes\n",
    "count_404 = cleaned_logs.filter(col(\"status\") == 404).count()\n",
    "print(f\"Number of 404 responses: {count_404}\")"
   ]
  },
  {
   "cell_type": "code",
   "execution_count": 13,
   "id": "65a34994-fab1-473b-9306-74ad5831307e",
   "metadata": {},
   "outputs": [
    {
     "name": "stdout",
     "output_type": "stream",
     "text": [
      "Top 15 endpoints with 404 responses:\n",
      "+-----------------------------------------------------------------+---------+\n",
      "|endpoint                                                         |404_count|\n",
      "+-----------------------------------------------------------------+---------+\n",
      "|/pub/winvn/readme.txt                                            |2004     |\n",
      "|/pub/winvn/release.txt                                           |1732     |\n",
      "|/shuttle/missions/STS-69/mission-STS-69.html                     |682      |\n",
      "|/shuttle/missions/sts-68/ksc-upclose.gif                         |426      |\n",
      "|/history/apollo/a-001/a-001-patch-small.gif                      |384      |\n",
      "|/history/apollo/sa-1/sa-1-patch-small.gif                        |383      |\n",
      "|/://spacelink.msfc.nasa.gov                                      |381      |\n",
      "|/images/crawlerway-logo.gif                                      |374      |\n",
      "|/elv/DELTA/uncons.htm                                            |372      |\n",
      "|/history/apollo/pad-abort-test-1/pad-abort-test-1-patch-small.gif|359      |\n",
      "|/images/nasa-logo.gif                                            |319      |\n",
      "|/shuttle/resources/orbiters/atlantis.gif                         |310      |\n",
      "|/history/apollo/apollo-13.html                                   |304      |\n",
      "|/shuttle/resources/orbiters/discovery.gif                        |262      |\n",
      "|/shuttle/missions/sts-71/images/KSC-95EC-0916.txt                |190      |\n",
      "+-----------------------------------------------------------------+---------+\n",
      "\n"
     ]
    }
   ],
   "source": [
    "#vi. Top 15 Endpoints with 404 Responses\n",
    "top_404_endpoints = cleaned_logs.filter(col(\"status\") == 404) \\\n",
    "    .groupBy(\"endpoint\") \\\n",
    "    .agg(count(\"*\").alias(\"404_count\")) \\\n",
    "    .orderBy(desc(\"404_count\")) \\\n",
    "    .limit(15)\n",
    "\n",
    "print(\"Top 15 endpoints with 404 responses:\")\n",
    "top_404_endpoints.show(truncate=False)"
   ]
  },
  {
   "cell_type": "code",
   "execution_count": 14,
   "id": "90548aff-0bda-4399-b834-f0322a4913a9",
   "metadata": {},
   "outputs": [
    {
     "name": "stdout",
     "output_type": "stream",
     "text": [
      "Top 15 hosts with 404 responses:\n",
      "+---------------------------+---------+\n",
      "|remotehost                 |404_count|\n",
      "+---------------------------+---------+\n",
      "|hoohoo.ncsa.uiuc.edu       |251      |\n",
      "|piweba3y.prodigy.com       |157      |\n",
      "|jbiagioni.npt.nuwc.navy.mil|132      |\n",
      "|piweba1y.prodigy.com       |114      |\n",
      "|www-d4.proxy.aol.com       |91       |\n",
      "|piweba4y.prodigy.com       |86       |\n",
      "|scooter.pa-x.dec.com       |69       |\n",
      "|www-d1.proxy.aol.com       |64       |\n",
      "|phaelon.ksc.nasa.gov       |64       |\n",
      "|www-b4.proxy.aol.com       |62       |\n",
      "|dialip-217.den.mmc.com     |62       |\n",
      "|www-b3.proxy.aol.com       |61       |\n",
      "|www-a2.proxy.aol.com       |60       |\n",
      "|piweba2y.prodigy.com       |59       |\n",
      "|www-d2.proxy.aol.com       |59       |\n",
      "+---------------------------+---------+\n",
      "\n"
     ]
    }
   ],
   "source": [
    "#vii. Top 15 Hosts with 404 Responses\n",
    "top_404_hosts = parsed_logs.filter(col(\"status\") == 404) \\\n",
    "    .groupBy(\"remotehost\") \\\n",
    "    .agg(count(\"*\").alias(\"404_count\")) \\\n",
    "    .orderBy(desc(\"404_count\")) \\\n",
    "    .limit(15)\n",
    "\n",
    "print(\"Top 15 hosts with 404 responses:\")\n",
    "top_404_hosts.show(truncate=False)"
   ]
  },
  {
   "cell_type": "code",
   "execution_count": 15,
   "id": "eba09cf8-2923-4ec7-8ef8-635ea3739329",
   "metadata": {},
   "outputs": [],
   "source": [
    "spark.stop()"
   ]
  },
  {
   "cell_type": "code",
   "execution_count": null,
   "id": "99cc6840-a09e-4c95-8f91-cc345aab2ea4",
   "metadata": {},
   "outputs": [],
   "source": []
  }
 ],
 "metadata": {
  "kernelspec": {
   "display_name": "Python 3 (ipykernel)",
   "language": "python",
   "name": "python3"
  },
  "language_info": {
   "codemirror_mode": {
    "name": "ipython",
    "version": 3
   },
   "file_extension": ".py",
   "mimetype": "text/x-python",
   "name": "python",
   "nbconvert_exporter": "python",
   "pygments_lexer": "ipython3",
   "version": "3.10.0"
  }
 },
 "nbformat": 4,
 "nbformat_minor": 5
}
